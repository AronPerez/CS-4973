{
 "cells": [
  {
   "cell_type": "markdown",
   "metadata": {
    "id": "9wUL_Fy5qUDI"
   },
   "source": [
    "# UTSA CS 4973/5483: Assignment-1\n",
    "\n",
    "Spring 2021\n",
    "\n",
    "\n",
    "**Last Name - First Name - (abc123)**\n",
    "\n",
    "\n",
    "\n",
    "\n"
   ]
  },
  {
   "cell_type": "markdown",
   "metadata": {
    "id": "NM8b9KVYsETT"
   },
   "source": [
    "## Learning Objectives\n",
    "\n",
    "\n",
    "*   Understand the process of image filtering. Create different filters and apply them on images.\n",
    "*   Implement the operation of blending two images using Laplacian Pyramid.\n"
   ]
  },
  {
   "cell_type": "code",
   "execution_count": null,
   "metadata": {
    "id": "f9apbZGptej6"
   },
   "outputs": [],
   "source": [
    "# Add only your imports here\n"
   ]
  },
  {
   "cell_type": "markdown",
   "metadata": {
    "id": "YeYRnesWqvLm"
   },
   "source": [
    "#Filtering\n",
    "\n",
    "##Create own filtering function (45 points)\n",
    "\n",
    "Write a function that performs filtering of an image given a kernel of size NxM, where N and M are both odd.\n",
    "\n",
    "Padding - implement the mirror technique to avoid the loss of pixels on the image boundary.\n",
    "\n",
    "\n",
    "##Create filter kernels and perform filtering (15 points)\n",
    "\n",
    "Use the above created function on a given set of images. Create a kernel for the each of the following filters and perform filtering. Compare the filtered image with the openCV's filter2D function by drawing them side-by-side. Do this for all the non-mask images and plot them in a separate row. Grid size for each filter will be 3 columns (left - your result, middle - original image, right - openCV result) x 6 rows (number of images).\n",
    "\n",
    "Create a new code block for the following:\n",
    "\n",
    "*   Gaussian blur filter\n",
    "*   Box blur filter\n",
    "*   Sharpening filter\n",
    "*   Sobel Horizontal filter\n",
    "*   Sobel Vertical filter\n",
    "\n",
    "\n"
   ]
  },
  {
   "cell_type": "code",
   "execution_count": null,
   "metadata": {
    "id": "YdPwgSBOtb1P"
   },
   "outputs": [],
   "source": [
    "# Create your own filtering function\n"
   ]
  },
  {
   "cell_type": "code",
   "execution_count": null,
   "metadata": {
    "id": "bjP9V_w-_D1-"
   },
   "outputs": [],
   "source": [
    "# Gaussian Blur Filter\n"
   ]
  },
  {
   "cell_type": "code",
   "execution_count": null,
   "metadata": {
    "id": "TVw7hjfd_RMn"
   },
   "outputs": [],
   "source": [
    "# Box Blur Filter\n"
   ]
  },
  {
   "cell_type": "code",
   "execution_count": null,
   "metadata": {
    "id": "3Lj97_0v_UEx"
   },
   "outputs": [],
   "source": [
    "# Sharpening Filter\n"
   ]
  },
  {
   "cell_type": "code",
   "execution_count": null,
   "metadata": {
    "id": "vwrgHKp1_UQh"
   },
   "outputs": [],
   "source": [
    "# Sobel Horizontal Filter\n"
   ]
  },
  {
   "cell_type": "code",
   "execution_count": null,
   "metadata": {
    "id": "BcZ8HvPm_UYZ"
   },
   "outputs": [],
   "source": [
    "# Sobel Vertical Filter\n"
   ]
  },
  {
   "cell_type": "markdown",
   "metadata": {
    "id": "YCsUNyl3KWrb"
   },
   "source": [
    "# Blending\n",
    "\n",
    "##Create own function for blending two images (50 points)\n",
    "\n",
    "Implement a function that blends two given images using the Laplacian Image Pyramid and returns the resultant blended image. Please look at the class slides for the algorithm and the corresponding recorded video for explanation. \n",
    "\n",
    "In the lecture, we used left half from image-1 and right half from image-2. Instead, you should use a mask (black/white image) during the merge step. Black indicates take the pixels from image-1 and white indicates take the pixel from image-2.\n",
    "\n",
    "Your function should take as input 2 images and an option to decide on the number of levels for Laplacian Pyramid. Assume that the images are of the same size.\n",
    "\n",
    "\n",
    "##Perform blending for give image pairs (15 points)\n",
    "\n",
    "Apply the above created function on all (3) pairs of images and show the results.\n",
    "\n",
    "1.   soccerball & baseball\n",
    "2.   ghost-rider & nicolas-cage\n",
    "3.   quinn & robbie\n",
    "\n",
    "As part of your results, you should show the Gaussian Pyramid, Laplacian Pyramid for each of the images in the image pair. You should also show the blend results at each level. Check the lecture slides for the results of the pair \"apple & orange\". You can show more intermediate results if you would like.\n",
    "\n"
   ]
  },
  {
   "cell_type": "code",
   "execution_count": null,
   "metadata": {
    "id": "oYcy29SdK3Xn"
   },
   "outputs": [],
   "source": [
    "# Create your own function for blending two images\n"
   ]
  },
  {
   "cell_type": "code",
   "execution_count": null,
   "metadata": {
    "id": "1o8j7SvVA53f"
   },
   "outputs": [],
   "source": [
    "# Apply the above created function on all (3) pairs of images and show the results\n"
   ]
  },
  {
   "cell_type": "markdown",
   "metadata": {
    "id": "YJSFgNBQrhQU"
   },
   "source": [
    "#Submission Instructions\n",
    "\n",
    "\n",
    "\n",
    "1.   Complete all tasks above\n",
    "2.   Export this notebook as .ipynb\n",
    "      (File > Download as ipynb)\n",
    "4.   Upload the .ipynb file on Blackboard\n",
    "\n"
   ]
  },
  {
   "cell_type": "markdown",
   "metadata": {
    "id": "0lGvLE9H6ptL"
   },
   "source": [
    "##Rubric\n",
    "\n",
    "*   (45 points) Implement Filtering Function\n",
    "*   (15 points) Apply different filters to the above function\n",
    "*   (50 points) Implement Blending Function\n",
    "*   (15 points) Apply blending on different images"
   ]
  }
 ],
 "metadata": {
  "colab": {
   "collapsed_sections": [],
   "name": "CS4973/5483_assignment1.ipynb",
   "provenance": [],
   "toc_visible": true
  },
  "kernelspec": {
   "display_name": "Python 3",
   "language": "python",
   "name": "python3"
  },
  "language_info": {
   "codemirror_mode": {
    "name": "ipython",
    "version": 3
   },
   "file_extension": ".py",
   "mimetype": "text/x-python",
   "name": "python",
   "nbconvert_exporter": "python",
   "pygments_lexer": "ipython3",
   "version": "3.8.5"
  }
 },
 "nbformat": 4,
 "nbformat_minor": 1
}
